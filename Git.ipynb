{
 "cells": [
  {
   "cell_type": "markdown",
   "metadata": {},
   "source": [
    "# Adding an existing project to GitHub for the first time"
   ]
  },
  {
   "cell_type": "code",
   "execution_count": null,
   "metadata": {},
   "outputs": [],
   "source": [
    "Change local directory to local project\n",
    "#Initialize the local directory as a Git repository.\n",
    "$ git init -b main\n",
    "# Adds the files in the local repository and stages them for commit.\n",
    "$ git add .\n",
    "# OR add specific file in the local repository and stages it for commit.\n",
    "$ git add README.md\n",
    "# Commits the tracked changes and prepares them to be pushed to a remote repository.\n",
    "$ git commit -m \"First commit\"\n",
    "# Sets the new remote\n",
    "$ git remote add origin https://github.com/username/repo.git\n",
    "# Verifies the new remote URL\n",
    "$ git remote -v\n",
    "# Pushes the changes in your local repository up to the remote repository you specified as the origin\n",
    "$ git push origin main\n"
   ]
  },
  {
   "cell_type": "markdown",
   "metadata": {},
   "source": [
    "## Subsequent commits"
   ]
  },
  {
   "cell_type": "code",
   "execution_count": null,
   "metadata": {},
   "outputs": [],
   "source": [
    "# Add specific file in the local repository and stages it for commit.\n",
    "$ git add README.md\n",
    "# Commits the tracked changes and prepares them to be pushed to a remote repository.\n",
    "$ git commit -m \"2nd commit\"\n",
    "# Verifies the new remote URL\n",
    "$ git remote -v\n",
    "# Pushes the changes in your local repository up to the remote repository you specified as the origin\n",
    "$ git push origin main"
   ]
  },
  {
   "cell_type": "markdown",
   "metadata": {},
   "source": [
    "# Markdown"
   ]
  },
  {
   "cell_type": "markdown",
   "metadata": {},
   "source": [
    "## Text"
   ]
  },
  {
   "cell_type": "code",
   "execution_count": null,
   "metadata": {},
   "outputs": [],
   "source": [
    "# First Tier Heading\n",
    "### Third Tier Heading\n",
    "###### Sixth Tier Heading (max tier)\n",
    "\n",
    "**bold**\n",
    "*italic*\n",
    "~~strikethrough~~\n",
    "[link to Google!](http://google.com)\n",
    "\n",
    "> This is a quote\n",
    "> - Captain Jack Sparrow"
   ]
  },
  {
   "cell_type": "markdown",
   "metadata": {},
   "source": [
    "## Lists"
   ]
  },
  {
   "cell_type": "code",
   "execution_count": null,
   "metadata": {},
   "outputs": [],
   "source": [
    "Numbered lists:\n",
    "1. Item 1\n",
    "1. Item 2\n",
    "  1. Item 2a\n",
    "  1. Item 2b\n",
    "\n",
    "Bullet points:\n",
    "* Item 1\n",
    "* Item 2\n",
    "  * Item 2a\n",
    "  * Item 2b\n",
    "\n",
    "Bullet points(dashes):\n",
    "- Item 1\n",
    "- Item 2\n",
    "  - Item 2a\n",
    "  - Item 2b"
   ]
  },
  {
   "cell_type": "markdown",
   "metadata": {},
   "source": [
    "## Code"
   ]
  },
  {
   "cell_type": "code",
   "execution_count": null,
   "metadata": {},
   "outputs": [],
   "source": [
    "#inline code\n",
    "`var example = true`\n",
    "\n",
    "#Code block (indent with 4 spaces)\n",
    "    if (isAwesome){\n",
    "      return true\n",
    "    }\n",
    "\n",
    "#Code fencing (multiple lines without indentation)\n",
    "```\n",
    "if (isAwesome){\n",
    "  return true\n",
    "}\n",
    "```\n",
    "\n",
    "#Code fencing with syntax highlighting for specified language\n",
    "```javascript\n",
    "if (isAwesome){\n",
    "  return true\n",
    "}\n",
    "```"
   ]
  },
  {
   "cell_type": "markdown",
   "metadata": {},
   "source": [
    "## Tables"
   ]
  },
  {
   "cell_type": "code",
   "execution_count": null,
   "metadata": {},
   "outputs": [],
   "source": [
    " First Header | Second Header\n",
    "------------ | -------------\n",
    "Content from cell 1 | Content from cell 2\n",
    "Content in the first column | Content in the second column"
   ]
  },
  {
   "cell_type": "markdown",
   "metadata": {},
   "source": [
    "## Task Lists"
   ]
  },
  {
   "cell_type": "code",
   "execution_count": null,
   "metadata": {},
   "outputs": [],
   "source": [
    "- [x] this is a complete item\n",
    "- [ ] this is an incomplete item"
   ]
  },
  {
   "cell_type": "markdown",
   "metadata": {},
   "source": [
    "## Images"
   ]
  },
  {
   "cell_type": "code",
   "execution_count": null,
   "metadata": {},
   "outputs": [],
   "source": [
    "![Image of Yaktocat](https://octodex.github.com/images/yaktocat.png)"
   ]
  },
  {
   "cell_type": "code",
   "execution_count": null,
   "metadata": {},
   "outputs": [],
   "source": []
  }
 ],
 "metadata": {
  "kernelspec": {
   "display_name": "Python 3",
   "language": "python",
   "name": "python3"
  },
  "language_info": {
   "codemirror_mode": {
    "name": "ipython",
    "version": 3
   },
   "file_extension": ".py",
   "mimetype": "text/x-python",
   "name": "python",
   "nbconvert_exporter": "python",
   "pygments_lexer": "ipython3",
   "version": "3.8.3"
  },
  "toc": {
   "base_numbering": 1,
   "nav_menu": {},
   "number_sections": true,
   "sideBar": true,
   "skip_h1_title": false,
   "title_cell": "Table of Contents",
   "title_sidebar": "Contents",
   "toc_cell": false,
   "toc_position": {},
   "toc_section_display": true,
   "toc_window_display": false
  },
  "varInspector": {
   "cols": {
    "lenName": 16,
    "lenType": 16,
    "lenVar": 40
   },
   "kernels_config": {
    "python": {
     "delete_cmd_postfix": "",
     "delete_cmd_prefix": "del ",
     "library": "var_list.py",
     "varRefreshCmd": "print(var_dic_list())"
    },
    "r": {
     "delete_cmd_postfix": ") ",
     "delete_cmd_prefix": "rm(",
     "library": "var_list.r",
     "varRefreshCmd": "cat(var_dic_list()) "
    }
   },
   "types_to_exclude": [
    "module",
    "function",
    "builtin_function_or_method",
    "instance",
    "_Feature"
   ],
   "window_display": false
  }
 },
 "nbformat": 4,
 "nbformat_minor": 4
}
